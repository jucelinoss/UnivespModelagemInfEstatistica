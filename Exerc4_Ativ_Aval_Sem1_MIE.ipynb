{
  "nbformat": 4,
  "nbformat_minor": 0,
  "metadata": {
    "colab": {
      "name": "Exerc4 - Ativ Aval Sem1 MIE",
      "provenance": [],
      "collapsed_sections": [],
      "include_colab_link": true
    },
    "kernelspec": {
      "name": "python3",
      "display_name": "Python 3"
    },
    "language_info": {
      "name": "python"
    }
  },
  "cells": [
    {
      "cell_type": "markdown",
      "metadata": {
        "id": "view-in-github",
        "colab_type": "text"
      },
      "source": [
        "<a href=\"https://colab.research.google.com/github/jucelinoss/UnivespModelagemInfEstatistica/blob/main/Exerc4_Ativ_Aval_Sem1_MIE.ipynb\" target=\"_parent\"><img src=\"https://colab.research.google.com/assets/colab-badge.svg\" alt=\"Open In Colab\"/></a>"
      ]
    },
    {
      "cell_type": "code",
      "source": [
        "import numpy as np\n",
        "import pandas as pd\n",
        "import matplotlib.pyplot as plt\n",
        "import seaborn as sns\n",
        "import math \n"
      ],
      "metadata": {
        "id": "1MQIM_BDwDBG"
      },
      "execution_count": 14,
      "outputs": []
    },
    {
      "cell_type": "markdown",
      "source": [
        "\n",
        "\n",
        "```\n",
        "# Isto* está formatado como código*\n",
        "```\n",
        "\n",
        "# Semana 1 - atividade avaliativa | Modelagem e Inferência Estatística – PES310"
      ],
      "metadata": {
        "id": "BPQBjamRudir"
      }
    },
    {
      "cell_type": "markdown",
      "source": [
        "# Exercício 4\n",
        "\n",
        "Considere duas variáveis que para valores entre 6 e 21 estão relacionadas mediante reta de regressão verdadeira\n",
        "$y = -0,15 + 0,092$x <br>\n",
        "Considerando duas amostras pontuais em que x vale 12 e 18, se a variância for 0,025. Realize os procedimentos para verificar a\n",
        "probabilidade de Y ultrapassar 0,1706 para cada amostra.\n",
        "Tendo todos seus resultados, confira eles com o que se afirma a seguir:\n",
        "\n",
        "* I. O valor esperado para x=18 é $\\mu_{Y:18} = -0,1656$\n",
        "* II. O valor esperado para x=12 é $\\mu_{Y:12} = -0,2484$.\n",
        "* III. A probabilidade $P(Y > 0,1706)$ para x=12 é $P(Y > 0,1706) = 0,009$\n",
        "* IV. A probabilidade $P(Y > 0,1706)$ para x=12 é $P(Y > 0,1706) = 0,4207$\n",
        "\n",
        "Após verificar com seus cálculos, é correto o que se afirma em:\n",
        "\n",
        "a) Apenas I e III são corretas. <br>\n",
        "b) Apenas I, II e III são corretas. <br>\n",
        "c) Apenas II e III são corretas.<br>\n",
        "d) Apenas I e II são corretas.<br>\n",
        "e) Apenas IV é correta<br>\n"
      ],
      "metadata": {
        "id": "qxhZHvxcJ6uY"
      }
    },
    {
      "cell_type": "code",
      "source": [
        "\n",
        "var = 0.025\n",
        "dvpd = pow(var, 1/2) # 0.05\n",
        "print(dvpd)\n",
        "x1 = 12\n",
        "x2 = 18"
      ],
      "metadata": {
        "id": "codS66bjon80",
        "colab": {
          "base_uri": "https://localhost:8080/"
        },
        "outputId": "3ffa8eca-f564-4dee-cb89-887c54c8ac32"
      },
      "execution_count": 24,
      "outputs": [
        {
          "output_type": "stream",
          "name": "stdout",
          "text": [
            "0.15811388300841897\n"
          ]
        }
      ]
    },
    {
      "cell_type": "markdown",
      "source": [
        "Analise afirmação I. "
      ],
      "metadata": {
        "id": "WwqZ1pAar2p1"
      }
    },
    {
      "cell_type": "code",
      "source": [
        "uy1 =  -0.15 + 0.092 * x1 \n",
        "print(f'O valor esperado de Y para x=', x1 , 'é', uy1)\n"
      ],
      "metadata": {
        "colab": {
          "base_uri": "https://localhost:8080/"
        },
        "id": "oYLmcSwSrk3h",
        "outputId": "d0d18095-5800-4e2c-a1f8-d490fe16742f"
      },
      "execution_count": 31,
      "outputs": [
        {
          "output_type": "stream",
          "name": "stdout",
          "text": [
            "O valor esperado de Y para x= 12 é 0.9540000000000001\n"
          ]
        }
      ]
    },
    {
      "cell_type": "markdown",
      "source": [
        "Análise afirmação II\n"
      ],
      "metadata": {
        "id": "trHwIBAor7G-"
      }
    },
    {
      "cell_type": "code",
      "source": [
        "uy2 =  -0.15 + 0.092 * x2 \n",
        "print(f'O valor esperado de Y para x=', x2 , 'é', uy2)"
      ],
      "metadata": {
        "colab": {
          "base_uri": "https://localhost:8080/"
        },
        "id": "zKxfcrWcr-Ne",
        "outputId": "de8d54da-4873-4ba7-b737-afbe0aa20824"
      },
      "execution_count": 32,
      "outputs": [
        {
          "output_type": "stream",
          "name": "stdout",
          "text": [
            "O valor esperado de Y para x= 18 é 1.506\n"
          ]
        }
      ]
    },
    {
      "cell_type": "markdown",
      "source": [
        "Análise afirmação III\n",
        "\n",
        "Considerando o desvio aleatório $\\sigma = 0.15$, calcular $P(Y>0,1706)$ e considerando que o comportamento do desvio aleatório pode ser descrito mediante uma distribuição normal:\n",
        "\n",
        "$P(Y>0,1706)= P( Z > \\frac{x-μ}{\\sigma})$ ou\n",
        "\n",
        "$P(Y>0,1706 \\space quando \\space x=12)= P( Z > \\frac{Y-u_{y,12}}{V})$\n",
        "\n",
        "$P(Y>0,1706)= P( Z > \\frac{0,1706 - 0,95}{0,15})$\n"
      ],
      "metadata": {
        "id": "NHsdv58bsFH-"
      }
    },
    {
      "cell_type": "code",
      "source": [
        "y= 0.1706\n",
        "valor_a_normalizar1= (y-uy1)/dvpd\n",
        "valor_a_normalizar1"
      ],
      "metadata": {
        "colab": {
          "base_uri": "https://localhost:8080/"
        },
        "id": "AkouQ_k_r-Cw",
        "outputId": "2133bdc6-6962-4db0-dae5-3c6732fe3704"
      },
      "execution_count": 27,
      "outputs": [
        {
          "output_type": "execute_result",
          "data": {
            "text/plain": [
              "-4.9546566379518175"
            ]
          },
          "metadata": {},
          "execution_count": 27
        }
      ]
    },
    {
      "cell_type": "code",
      "source": [
        "#importar librarias necessárias\n",
        "from scipy.integrate import quad\n",
        "#definir a equação considerando uma média de zero\n",
        "def normalProbabilityDensity(x):\n",
        "    constant = 1.0 / np.sqrt(2*np.pi)\n",
        "    return(constant * np.exp((-x**2) / 2.0) )\n",
        "#Obter o valor da tabela Z\n",
        "PZa,_ = quad(normalProbabilityDensity, np.NINF, valor_a_normalizar1)\n",
        "print('Phi(', valor_a_normalizar1, ')=', PZa)"
      ],
      "metadata": {
        "colab": {
          "base_uri": "https://localhost:8080/"
        },
        "id": "WAizzZB1v5MT",
        "outputId": "bdeecbe0-653f-46ca-f2c6-4d40bf636c36"
      },
      "execution_count": 28,
      "outputs": [
        {
          "output_type": "stream",
          "name": "stdout",
          "text": [
            "Phi( -4.9546566379518175 )= 3.6229062881957595e-07\n"
          ]
        }
      ]
    },
    {
      "cell_type": "markdown",
      "source": [
        "Analise afirmação IV\n"
      ],
      "metadata": {
        "id": "45Iy1COnsIyZ"
      }
    },
    {
      "cell_type": "code",
      "source": [
        "y= 0.1706\n",
        "valor_a_normalizar2= (y-uy2)/dvpd\n",
        "valor_a_normalizar2"
      ],
      "metadata": {
        "colab": {
          "base_uri": "https://localhost:8080/"
        },
        "id": "U0V0zYsCsLtj",
        "outputId": "3432d9f2-8ea1-45fe-e073-43c8970a9432"
      },
      "execution_count": 35,
      "outputs": [
        {
          "output_type": "execute_result",
          "data": {
            "text/plain": [
              "-8.445811174777706"
            ]
          },
          "metadata": {},
          "execution_count": 35
        }
      ]
    },
    {
      "cell_type": "code",
      "source": [
        "#importar librarias necessárias\n",
        "from scipy.integrate import quad\n",
        "#definir a equação considerando uma média de zero\n",
        "def normalProbabilityDensity(x):\n",
        "    constant = 1.0 / np.sqrt(2*np.pi)\n",
        "    return(constant * np.exp((-x**2) / 2.0) )\n",
        "#Obter o valor da tabela Z\n",
        "PZa,_ = quad(normalProbabilityDensity, np.NINF, valor_a_normalizar2)\n",
        "print('Phi(', valor_a_normalizar2, ')=', PZa)"
      ],
      "metadata": {
        "colab": {
          "base_uri": "https://localhost:8080/"
        },
        "id": "MTclRkOFzEB7",
        "outputId": "c9f5349a-9f70-405d-8add-f18fb41f9aed"
      },
      "execution_count": 36,
      "outputs": [
        {
          "output_type": "stream",
          "name": "stdout",
          "text": [
            "Phi( -8.445811174777706 )= 1.5097070384105347e-17\n"
          ]
        }
      ]
    }
  ]
}